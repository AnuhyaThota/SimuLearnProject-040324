{
 "cells": [
  {
   "cell_type": "code",
   "execution_count": null,
   "metadata": {},
   "outputs": [],
   "source": [
    "%load_ext sql"
   ]
  },
  {
   "cell_type": "code",
   "execution_count": 2,
   "metadata": {},
   "outputs": [
    {
     "name": "stdout",
     "output_type": "stream",
     "text": [
      "Done.\n"
     ]
    },
    {
     "data": {
      "text/html": [
       "<table>\n",
       "    <thead>\n",
       "        <tr>\n",
       "            <th>tbl_name</th>\n",
       "        </tr>\n",
       "    </thead>\n",
       "    <tbody>\n",
       "        <tr>\n",
       "            <td>users</td>\n",
       "        </tr>\n",
       "        <tr>\n",
       "            <td>lessons</td>\n",
       "        </tr>\n",
       "        <tr>\n",
       "            <td>conversation_history</td>\n",
       "        </tr>\n",
       "        <tr>\n",
       "            <td>user_current_lesson</td>\n",
       "        </tr>\n",
       "    </tbody>\n",
       "</table>"
      ],
      "text/plain": [
       "[('users',), ('lessons',), ('conversation_history',), ('user_current_lesson',)]"
      ]
     },
     "execution_count": 2,
     "metadata": {},
     "output_type": "execute_result"
    }
   ],
   "source": [
    "%%sql\n",
    "sqlite:///simulearn.db\n",
    "select tbl_name from sqlite_master where type='table'\n"
   ]
  },
  {
   "cell_type": "code",
   "execution_count": 5,
   "metadata": {},
   "outputs": [
    {
     "name": "stdout",
     "output_type": "stream",
     "text": [
      " * sqlite:///simulearn.db\n",
      "Done.\n"
     ]
    },
    {
     "data": {
      "text/html": [
       "<table>\n",
       "    <thead>\n",
       "        <tr>\n",
       "            <th>id</th>\n",
       "            <th>created_by</th>\n",
       "            <th>user_prompt</th>\n",
       "            <th>lesson_title</th>\n",
       "            <th>lesson_desc</th>\n",
       "            <th>tutor_prompt</th>\n",
       "            <th>sc_prompt</th>\n",
       "        </tr>\n",
       "    </thead>\n",
       "    <tbody>\n",
       "        <tr>\n",
       "            <td>17</td>\n",
       "            <td>1</td>\n",
       "            <td>I have an interview for ETL Developer role, I want to review important concepts of ETL, could you help me to learn them?</td>\n",
       "            <td>The title of the lesson could be &quot;Essential Concepts of ETL for ETL Developer Interviews&quot;.</td>\n",
       "            <td>The lesson aims to provide a comprehensive review of essential concepts in ETL (Extract, Transform, Load) for individuals preparing for ETL Developer interviews. It covers key concepts, principles, and processes involved in ETL, helping learners gain a deeper understanding and prepare effectively for their interviews in the field.</td>\n",
       "            <td>The tutor in this lesson is an experienced ETL professional who will guide you through the essential concepts of ETL. The tutor will explain the key principles of Extract, Transform, Load processes, provide practical examples, and offer valuable insights to help you grasp the concepts effectively. The tutor will also support you in understanding how these concepts are applied in real-world scenarios and offer feedback to enhance your learning experience.</td>\n",
       "            <td>The simu in this lesson is a simulated scenario where you will act as an ETL Developer working on a data migration project. Through this scenario, you will practically apply the concepts of Extract, Transform, Load processes to a real-world project. The simu will provide you with hands-on experience in working with ETL tools, handling data transformations, and loading data into target systems. This experiential learning approach will enhance your understanding of ETL concepts and prepare you for similar scenarios in your ETL Developer role.</td>\n",
       "        </tr>\n",
       "        <tr>\n",
       "            <td>18</td>\n",
       "            <td>1</td>\n",
       "            <td>I am learning to speak English language, I would like to imagine I am in a Cafe for a breakfast, I would like have conversation with Cafe owner regarding the breakfast</td>\n",
       "            <td>The title of the lesson could be &quot;Breakfast Cafe Conversation in English&quot;.</td>\n",
       "            <td>The lesson &quot;Breakfast Cafe Conversation in English&quot; provides an immersive experience where you imagine yourself in a cafe, engaging in a conversation with the cafe owner regarding breakfast. Through this lesson, you will practice speaking English in a realistic scenario, enhancing your language skills and confidence in real-life situations.</td>\n",
       "            <td>The Tutor in this lesson is a friendly and patient English-speaking cafe owner who will guide you through the conversation about breakfast. The Tutor will help you practice vocabulary, pronunciation, and sentence structures related to ordering breakfast in a cafe. They will provide feedback, correct any mistakes, and encourage you to improve your English speaking skills in a casual and supportive setting.</td>\n",
       "            <td>The Simu in this lesson is a customer in the cafe who is also ordering breakfast. The Simu will engage in conversation with the Tutor (cafe owner) alongside you, providing additional context and dialogue to make the learning experience more interactive and dynamic. The Simu&#x27;s role is to create a realistic scenario for you to practice your English language skills in a conversational setting, allowing you to immerse yourself in the situation and improve your language abilities.</td>\n",
       "        </tr>\n",
       "        <tr>\n",
       "            <td>19</td>\n",
       "            <td>1</td>\n",
       "            <td>I am preparing for a debate over the topic of artificial intelligence, I argue that AI is beneficial to the society and benefits overweighs the harm where as Simu choses the other side and Tutor guides me improve my debating skills</td>\n",
       "            <td>Debating the Impact of Artificial Intelligence on Society</td>\n",
       "            <td>This lesson focuses on debating the impact of artificial intelligence on society. Learner argues that AI benefits outweigh the harm, while Simu represents the opposing side. Tutor assists in improving debating skills.</td>\n",
       "            <td>The tutor role-play character guides the learner in refining their debating skills, providing feedback, and helping them effectively argue that the benefits of artificial intelligence outweigh the harm.</td>\n",
       "            <td>Simu role-play character takes the opposing stance, arguing that the harm caused by artificial intelligence outweighs the benefits. Simu provides counterarguments to challenge the learner&#x27;s perspective and create a dynamic debate scenario.</td>\n",
       "        </tr>\n",
       "    </tbody>\n",
       "</table>"
      ],
      "text/plain": [
       "[(17, 1, 'I have an interview for ETL Developer role, I want to review important concepts of ETL, could you help me to learn them?', 'The title of the lesson could be \"Essential Concepts of ETL for ETL Developer Interviews\".', 'The lesson aims to provide a comprehensive review of essential concepts in ETL (Extract, Transform, Load) for individuals preparing for ETL Developer ... (34 characters truncated) ... s, principles, and processes involved in ETL, helping learners gain a deeper understanding and prepare effectively for their interviews in the field.', 'The tutor in this lesson is an experienced ETL professional who will guide you through the essential concepts of ETL. The tutor will explain the key  ... (160 characters truncated) ... will also support you in understanding how these concepts are applied in real-world scenarios and offer feedback to enhance your learning experience.', 'The simu in this lesson is a simulated scenario where you will act as an ETL Developer working on a data migration project. Through this scenario, yo ... (248 characters truncated) ... This experiential learning approach will enhance your understanding of ETL concepts and prepare you for similar scenarios in your ETL Developer role.'),\n",
       " (18, 1, 'I am learning to speak English language, I would like to imagine I am in a Cafe for a breakfast, I would like have conversation with Cafe owner regarding the breakfast', 'The title of the lesson could be \"Breakfast Cafe Conversation in English\".', 'The lesson \"Breakfast Cafe Conversation in English\" provides an immersive experience where you imagine yourself in a cafe, engaging in a conversation ... (44 characters truncated) ... rough this lesson, you will practice speaking English in a realistic scenario, enhancing your language skills and confidence in real-life situations.', 'The Tutor in this lesson is a friendly and patient English-speaking cafe owner who will guide you through the conversation about breakfast. The Tutor ... (110 characters truncated) ... cafe. They will provide feedback, correct any mistakes, and encourage you to improve your English speaking skills in a casual and supportive setting.', \"The Simu in this lesson is a customer in the cafe who is also ordering breakfast. The Simu will engage in conversation with the Tutor (cafe owner) al ... (182 characters truncated) ... tice your English language skills in a conversational setting, allowing you to immerse yourself in the situation and improve your language abilities.\"),\n",
       " (19, 1, 'I am preparing for a debate over the topic of artificial intelligence, I argue that AI is beneficial to the society and benefits overweighs the harm where as Simu choses the other side and Tutor guides me improve my debating skills', 'Debating the Impact of Artificial Intelligence on Society', 'This lesson focuses on debating the impact of artificial intelligence on society. Learner argues that AI benefits outweigh the harm, while Simu represents the opposing side. Tutor assists in improving debating skills.', 'The tutor role-play character guides the learner in refining their debating skills, providing feedback, and helping them effectively argue that the benefits of artificial intelligence outweigh the harm.', \"Simu role-play character takes the opposing stance, arguing that the harm caused by artificial intelligence outweighs the benefits. Simu provides counterarguments to challenge the learner's perspective and create a dynamic debate scenario.\")]"
      ]
     },
     "execution_count": 5,
     "metadata": {},
     "output_type": "execute_result"
    }
   ],
   "source": [
    "%%sql\n",
    "select * from lessons;"
   ]
  },
  {
   "cell_type": "code",
   "execution_count": 4,
   "metadata": {},
   "outputs": [
    {
     "name": "stdout",
     "output_type": "stream",
     "text": [
      " * sqlite:///simulearn.db\n",
      "Done.\n"
     ]
    },
    {
     "data": {
      "text/html": [
       "<table>\n",
       "    <thead>\n",
       "        <tr>\n",
       "            <th>id</th>\n",
       "            <th>lesson_id</th>\n",
       "            <th>user_id</th>\n",
       "            <th>user_input</th>\n",
       "            <th>response</th>\n",
       "            <th>agent_role</th>\n",
       "            <th>timestamp</th>\n",
       "        </tr>\n",
       "    </thead>\n",
       "    <tbody>\n",
       "        <tr>\n",
       "            <td>16</td>\n",
       "            <td>7</td>\n",
       "            <td>1</td>\n",
       "            <td>This is redigned testing</td>\n",
       "            <td>sc output: This is redigned testing</td>\n",
       "            <td>sc</td>\n",
       "            <td>2024-02-03 19:50:09.403400</td>\n",
       "        </tr>\n",
       "        <tr>\n",
       "            <td>17</td>\n",
       "            <td>7</td>\n",
       "            <td>1</td>\n",
       "            <td>coooooool.....</td>\n",
       "            <td>tutor output: coooooool.....</td>\n",
       "            <td>tutor</td>\n",
       "            <td>2024-02-03 19:50:15.214247</td>\n",
       "        </tr>\n",
       "        <tr>\n",
       "            <td>18</td>\n",
       "            <td>19</td>\n",
       "            <td>1</td>\n",
       "            <td>Hi</td>\n",
       "            <td>sc output: Hi</td>\n",
       "            <td>sc</td>\n",
       "            <td>2024-02-17 21:30:03.001302</td>\n",
       "        </tr>\n",
       "        <tr>\n",
       "            <td>19</td>\n",
       "            <td>19</td>\n",
       "            <td>1</td>\n",
       "            <td>This is testing</td>\n",
       "            <td>tutor output: This is testing</td>\n",
       "            <td>tutor</td>\n",
       "            <td>2024-02-17 22:35:33.221915</td>\n",
       "        </tr>\n",
       "    </tbody>\n",
       "</table>"
      ],
      "text/plain": [
       "[(16, 7, 1, 'This is redigned testing', 'sc output: This is redigned testing', 'sc', '2024-02-03 19:50:09.403400'),\n",
       " (17, 7, 1, 'coooooool.....', 'tutor output: coooooool.....', 'tutor', '2024-02-03 19:50:15.214247'),\n",
       " (18, 19, 1, 'Hi', 'sc output: Hi', 'sc', '2024-02-17 21:30:03.001302'),\n",
       " (19, 19, 1, 'This is testing', 'tutor output: This is testing', 'tutor', '2024-02-17 22:35:33.221915')]"
      ]
     },
     "execution_count": 4,
     "metadata": {},
     "output_type": "execute_result"
    }
   ],
   "source": [
    "%%sql\n",
    "select * from conversation_history"
   ]
  },
  {
   "cell_type": "code",
   "execution_count": null,
   "metadata": {},
   "outputs": [],
   "source": []
  }
 ],
 "metadata": {
  "kernelspec": {
   "display_name": "Python 3",
   "language": "python",
   "name": "python3"
  },
  "language_info": {
   "codemirror_mode": {
    "name": "ipython",
    "version": 3
   },
   "file_extension": ".py",
   "mimetype": "text/x-python",
   "name": "python",
   "nbconvert_exporter": "python",
   "pygments_lexer": "ipython3",
   "version": "3.9.15"
  },
  "orig_nbformat": 4
 },
 "nbformat": 4,
 "nbformat_minor": 2
}
